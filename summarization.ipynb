{
 "cells": [
  {
   "cell_type": "code",
   "execution_count": 1,
   "metadata": {},
   "outputs": [
    {
     "data": {
      "text/plain": [
       "True"
      ]
     },
     "execution_count": 1,
     "metadata": {},
     "output_type": "execute_result"
    }
   ],
   "source": [
    "from langchain.chains.summarize import load_summarize_chain\n",
    "from langchain.document_loaders import PyPDFLoader\n",
    "from langchain import OpenAI, PromptTemplate\n",
    "import os, glob\n",
    "import dotenv\n",
    "dotenv.load_dotenv()"
   ]
  },
  {
   "cell_type": "code",
   "execution_count": 2,
   "metadata": {},
   "outputs": [],
   "source": [
    "llm = OpenAI()\n",
    "def summarize_pdfs_from_folder(directory):\n",
    "    summaries = []\n",
    "    for pdf_file in glob.glob(directory + \"/*.pdf\"):\n",
    "        loader = PyPDFLoader(pdf_file)\n",
    "        docs = loader.load_and_split()\n",
    "        chain = load_summarize_chain(llm, chain_type=\"map_reduce\")\n",
    "        summary = chain.run(docs)\n",
    "        print(f\"Summary for {pdf_file}:\\n{summary}\\n\")\n",
    "        summaries.append(summary)\n",
    "        \n",
    "    return summaries"
   ]
  },
  {
   "cell_type": "code",
   "execution_count": 3,
   "metadata": {},
   "outputs": [
    {
     "name": "stdout",
     "output_type": "stream",
     "text": [
      "Summary for ../GenAI_Report/4-韩先培- UIE基于统一结构生成的通用信息抽取.pdf:\n",
      " This paper introduces a Unifying Information Extraction (UIE) model that can capture and transfer knowledge between different information extraction tasks. It is pre-trained on a large-scale dataset and fine-tuned for different tasks. The model outperforms existing models in multiple tasks and a Schema-based guiding system (SSI) is proposed to improve the performance in low-resource settings. Code and models are available.\n",
      "\n",
      "Summary for ../GenAI_Report/1-周明-预训练模型在金融NLP领域应用.pdf:\n",
      " \n",
      "\n",
      "Natural Language Processing (NLP) techniques are being used in the finance sector to improve customer service, automate processes, detect fraud, and improve decision making. Mengzi-T5-base-mt is a zero-shot learning technique developed for extracting entities from financial news. 澜舟市场搜索研判平台 is a platform that provides information search, analysis, and decision support for asset management and decision making with features like hot topic extraction and sentiment analysis. It also includes a new chapter-level topic extraction and sentiment analysis method, as well as the construction of an event relation graph.\n",
      "\n",
      "Summary for ../GenAI_Report/RAG Paper.pdf:\n",
      " This paper explores retrieval-augmented generation (RAG) models, which use a bi-encoder based retriever and a transformer generator to generate text based on a context of previous tokens, the original input, and a retrieved document. The models are evaluated on a range of knowledge-intensive NLP tasks and achieve state-of-the-art results. Additionally, the models are able to update as the world changes. This paper also discusses the potential risks associated with such models and suggests potential mitigation measures.\n",
      "\n",
      "Summary for ../GenAI_Report/2307.03172.pdf:\n",
      "\n",
      "\n",
      "This article examines the performance of language models on two tasks: multi-document question answering and key-value retrieval. It finds that language models perform best when relevant information is at the beginning or end of the input context, and decrease in performance when accessing information in the middle of long contexts. Various model architectures, query-aware contextualization, and instruction fine-tuning are discussed in order to understand and improve how language models use their input context. Results suggest that extended-context models are not necessarily better at using input context, and that language models struggle to retrieve and use information from the middle of their input contexts.\n",
      "\n",
      "Summary for ../GenAI_Report/LLaMA Open and Efficient Foundation Language Models.pdf:\n",
      " This paper presents the LLaMA language models, which range from 7B to 65B parameters and are evaluated on 20 benchmark tasks. Results show that LLaMA outperforms existing models, with toxicity increasing with model size. The paper also discusses transformer architecture and optimization hyper-parameters, as well as the Fibonacci sequence, a recommendation letter, a function for finding real roots of polynomials, and a bash terminal. Additionally, it provides code examples for using the LLaMA-I protocol and instruction dataset, and discusses popular chess openings, a story about a grain of sand, and a conversation between Julius Caesar and Napoleon. Finally, five people the writer would like to meet are explored.\n",
      "\n",
      "Summary for ../GenAI_Report/5-马永亮-基于预训练模型的金融事件分析及应用.pdf:\n",
      "\n",
      "Lanzhou Technology has developed an event analysis framework to support financial information understanding. This includes event extraction, event detection, event library, event types, trigger words, elements, element roles, event types, trigger word events chain, model event chain library, event prediction, model user input, NL2SQL, event search, document search, and specific events for a company. Ma Yongliang, the Search & Financial NLP Technology leader from Lanzhou Technology, will be hosting an NLP Sharing event on August 20th, 2022, to discuss the application of this technology.\n",
      "\n",
      "Summary for ../GenAI_Report/陆奇深圳演讲（2023年4月23日）.pdf:\n",
      " This article looks at digital transformation and its potential to meet human needs in various industries, exploring the five layers of need fulfillment, two types of demand-driven models, and the need for information, models, and actions. It also examines the potential of AI, quantum, and bio-based technologies to drive medical advancements in the future. Finally, it provides a framework of market, technology, capital, and execution risks, and outlines how entrepreneurs can use digital solutions to accelerate the innovation cycle. The article also includes a discussion between X Partner and Ning De about AI technology, model building, and developing tools for autonomous driving applications, as well as the light asset route versus the heavy asset route for start-ups.\n",
      "\n",
      "Summary for ../GenAI_Report/2-邱锡鹏-大规模预训练模型：探讨和展望 202208.pdf:\n",
      " This paper, written by Qi Xi-Peng and published by Fudan University, discusses the potential of large-scale pre-trained models for natural language processing (NLP) and anticipates their future applications. It reviews the types of models, tasks they are used for, advantages and disadvantages, potential applications, and ethical considerations. Additionally, the paper introduces Black-Box Tuning (BBTv2), a new technique for Few-Shot Learning, and discusses the opportunities large models bring to the field of NLP.\n",
      "\n",
      "Summary for ../GenAI_Report/McKinsey-GenAI-Report.pdf:\n",
      " This McKinsey & Company report looks at the potential benefits of Generative AI, a new type of artificial intelligence, for economic growth. It estimates potential economic gains of up to $4.4 trillion annually, through improved efficiency, accuracy, and innovation in customer operations, marketing and sales, software engineering, and R&D. The report also examines the challenges of adoption, such as job losses and environmental impacts, and estimates that it could contribute 0.2-3.3% to global economic growth annually.\n",
      "\n"
     ]
    },
    {
     "data": {
      "text/plain": [
       "[' This paper introduces a Unifying Information Extraction (UIE) model that can capture and transfer knowledge between different information extraction tasks. It is pre-trained on a large-scale dataset and fine-tuned for different tasks. The model outperforms existing models in multiple tasks and a Schema-based guiding system (SSI) is proposed to improve the performance in low-resource settings. Code and models are available.',\n",
       " ' \\n\\nNatural Language Processing (NLP) techniques are being used in the finance sector to improve customer service, automate processes, detect fraud, and improve decision making. Mengzi-T5-base-mt is a zero-shot learning technique developed for extracting entities from financial news. 澜舟市场搜索研判平台 is a platform that provides information search, analysis, and decision support for asset management and decision making with features like hot topic extraction and sentiment analysis. It also includes a new chapter-level topic extraction and sentiment analysis method, as well as the construction of an event relation graph.',\n",
       " ' This paper explores retrieval-augmented generation (RAG) models, which use a bi-encoder based retriever and a transformer generator to generate text based on a context of previous tokens, the original input, and a retrieved document. The models are evaluated on a range of knowledge-intensive NLP tasks and achieve state-of-the-art results. Additionally, the models are able to update as the world changes. This paper also discusses the potential risks associated with such models and suggests potential mitigation measures.',\n",
       " '\\n\\nThis article examines the performance of language models on two tasks: multi-document question answering and key-value retrieval. It finds that language models perform best when relevant information is at the beginning or end of the input context, and decrease in performance when accessing information in the middle of long contexts. Various model architectures, query-aware contextualization, and instruction fine-tuning are discussed in order to understand and improve how language models use their input context. Results suggest that extended-context models are not necessarily better at using input context, and that language models struggle to retrieve and use information from the middle of their input contexts.',\n",
       " ' This paper presents the LLaMA language models, which range from 7B to 65B parameters and are evaluated on 20 benchmark tasks. Results show that LLaMA outperforms existing models, with toxicity increasing with model size. The paper also discusses transformer architecture and optimization hyper-parameters, as well as the Fibonacci sequence, a recommendation letter, a function for finding real roots of polynomials, and a bash terminal. Additionally, it provides code examples for using the LLaMA-I protocol and instruction dataset, and discusses popular chess openings, a story about a grain of sand, and a conversation between Julius Caesar and Napoleon. Finally, five people the writer would like to meet are explored.',\n",
       " '\\nLanzhou Technology has developed an event analysis framework to support financial information understanding. This includes event extraction, event detection, event library, event types, trigger words, elements, element roles, event types, trigger word events chain, model event chain library, event prediction, model user input, NL2SQL, event search, document search, and specific events for a company. Ma Yongliang, the Search & Financial NLP Technology leader from Lanzhou Technology, will be hosting an NLP Sharing event on August 20th, 2022, to discuss the application of this technology.',\n",
       " ' This article looks at digital transformation and its potential to meet human needs in various industries, exploring the five layers of need fulfillment, two types of demand-driven models, and the need for information, models, and actions. It also examines the potential of AI, quantum, and bio-based technologies to drive medical advancements in the future. Finally, it provides a framework of market, technology, capital, and execution risks, and outlines how entrepreneurs can use digital solutions to accelerate the innovation cycle. The article also includes a discussion between X Partner and Ning De about AI technology, model building, and developing tools for autonomous driving applications, as well as the light asset route versus the heavy asset route for start-ups.',\n",
       " ' This paper, written by Qi Xi-Peng and published by Fudan University, discusses the potential of large-scale pre-trained models for natural language processing (NLP) and anticipates their future applications. It reviews the types of models, tasks they are used for, advantages and disadvantages, potential applications, and ethical considerations. Additionally, the paper introduces Black-Box Tuning (BBTv2), a new technique for Few-Shot Learning, and discusses the opportunities large models bring to the field of NLP.',\n",
       " ' This McKinsey & Company report looks at the potential benefits of Generative AI, a new type of artificial intelligence, for economic growth. It estimates potential economic gains of up to $4.4 trillion annually, through improved efficiency, accuracy, and innovation in customer operations, marketing and sales, software engineering, and R&D. The report also examines the challenges of adoption, such as job losses and environmental impacts, and estimates that it could contribute 0.2-3.3% to global economic growth annually.']"
      ]
     },
     "execution_count": 3,
     "metadata": {},
     "output_type": "execute_result"
    }
   ],
   "source": [
    "summarize_pdfs_from_folder(\"../GenAI_Report\")"
   ]
  },
  {
   "cell_type": "markdown",
   "metadata": {},
   "source": [
    "### Query Multiple PDFs"
   ]
  },
  {
   "cell_type": "code",
   "execution_count": 5,
   "metadata": {},
   "outputs": [],
   "source": [
    "from langchain.indexes import VectorstoreIndexCreator\n",
    "from langchain.document_loaders import PyPDFDirectoryLoader"
   ]
  },
  {
   "cell_type": "code",
   "execution_count": 9,
   "metadata": {},
   "outputs": [
    {
     "name": "stderr",
     "output_type": "stream",
     "text": [
      "Using embedded DuckDB without persistence: data will be transient\n"
     ]
    }
   ],
   "source": [
    "loader = PyPDFDirectoryLoader(\"../GenAI_Report/\")\n",
    "docs = loader.load()\n",
    "\n",
    "index = VectorstoreIndexCreator().from_loaders([loader])"
   ]
  },
  {
   "cell_type": "code",
   "execution_count": 11,
   "metadata": {},
   "outputs": [
    {
     "data": {
      "text/plain": [
       "' The future outlook for generative AI is very promising. It has the potential to revolutionize how we work and live, and to create significant value for companies, policy makers, consumers, and citizens. Generative AI can be used to automate routine tasks, such as the reorganization and classification of data, and to create text, music, and digital art. It can also be used to help solve complex problems, such as those related to climate change. However, it is important to remember that generative AI also has the potential to be more destabilizing than previous generations of artificial intelligence, as it is capable of language, which can be used to hurt feelings, create misunderstandings, obscure truth, and incite violence and even wars. Companies, policy makers, consumers, and citizens must work together to ensure that generative AI delivers on its promise to create significant value while limiting its potential to upset lives and livelihoods.'"
      ]
     },
     "execution_count": 11,
     "metadata": {},
     "output_type": "execute_result"
    }
   ],
   "source": [
    "query = \"which is the future outlook for generative AI? Explain with more than 100 words\"\n",
    "index.query(query)"
   ]
  },
  {
   "cell_type": "code",
   "execution_count": 12,
   "metadata": {},
   "outputs": [
    {
     "data": {
      "text/plain": [
       "VectorStoreIndexWrapper(vectorstore=<langchain.vectorstores.chroma.Chroma object at 0x7f8bcc1ed670>)"
      ]
     },
     "execution_count": 12,
     "metadata": {},
     "output_type": "execute_result"
    }
   ],
   "source": [
    "index"
   ]
  },
  {
   "cell_type": "code",
   "execution_count": null,
   "metadata": {},
   "outputs": [],
   "source": []
  }
 ],
 "metadata": {
  "kernelspec": {
   "display_name": "base",
   "language": "python",
   "name": "python3"
  },
  "language_info": {
   "codemirror_mode": {
    "name": "ipython",
    "version": 3
   },
   "file_extension": ".py",
   "mimetype": "text/x-python",
   "name": "python",
   "nbconvert_exporter": "python",
   "pygments_lexer": "ipython3",
   "version": "3.8.8"
  },
  "orig_nbformat": 4
 },
 "nbformat": 4,
 "nbformat_minor": 2
}
